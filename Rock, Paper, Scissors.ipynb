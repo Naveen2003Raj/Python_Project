{
 "cells": [
  {
   "cell_type": "markdown",
   "metadata": {},
   "source": [
    "# Mini Project: Rock, Paper, Scissors"
   ]
  },
  {
   "cell_type": "code",
   "execution_count": 29,
   "metadata": {
    "scrolled": true
   },
   "outputs": [
    {
     "name": "stdout",
     "output_type": "stream",
     "text": [
      "Enter your choice (rock, paper, scissors): rock\n",
      "You chose: rock\n",
      "Computer chose: paper\n",
      "You lose! Paper covers rock.\n"
     ]
    }
   ],
   "source": [
    "import random\n",
    "\n",
    "# Get user input\n",
    "user = input(\"Enter your choice (rock, paper, scissors): \").lower()\n",
    "\n",
    "# random choice for computer\n",
    "options = [\"rock\", \"paper\", \"scissors\"]\n",
    "computer = random.choice(options)\n",
    "\n",
    "# Save in variables\n",
    "print(\"You chose:\", user)\n",
    "print(\"Computer chose:\", computer)\n",
    "\n",
    "# Determine winner using if-elif-else\n",
    "if user == computer:\n",
    "    print(\"It's a tie!\")\n",
    "elif user == \"rock\":\n",
    "    if computer == \"scissors\":\n",
    "        print(\"You win! Rock breaks scissors.\")\n",
    "    else:\n",
    "        print(\"You lose! Paper covers rock.\")\n",
    "elif user == \"paper\":\n",
    "    if computer == \"rock\":\n",
    "        print(\"You win! Paper covers rock.\")\n",
    "    else:\n",
    "        print(\"You lose! Scissors cut paper.\")\n",
    "elif user == \"scissors\":\n",
    "    if computer == \"paper\":\n",
    "        print(\"You win! Scissors cut paper.\")\n",
    "    else:\n",
    "        print(\"You lose! Rock breaks scissors.\")\n",
    "else:\n",
    "    print(\"Invalid choice! Please choose rock, paper, or scissors.\")\n",
    "\n",
    "    "
   ]
  },
  {
   "cell_type": "code",
   "execution_count": null,
   "metadata": {
    "collapsed": true
   },
   "outputs": [],
   "source": []
  }
 ],
 "metadata": {
  "kernelspec": {
   "display_name": "Python 3",
   "language": "python",
   "name": "python3"
  },
  "language_info": {
   "codemirror_mode": {
    "name": "ipython",
    "version": 3
   },
   "file_extension": ".py",
   "mimetype": "text/x-python",
   "name": "python",
   "nbconvert_exporter": "python",
   "pygments_lexer": "ipython3",
   "version": "3.6.2"
  }
 },
 "nbformat": 4,
 "nbformat_minor": 2
}
